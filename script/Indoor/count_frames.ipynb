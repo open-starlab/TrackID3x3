{
 "cells": [
  {
   "cell_type": "code",
   "execution_count": null,
   "metadata": {},
   "outputs": [
    {
     "name": "stdout",
     "output_type": "stream",
     "text": [
      "Total unique frames: 8054\n"
     ]
    }
   ],
   "source": [
    "import os\n",
    "import pandas as pd\n",
    "\n",
    "def calculate_total_frames(directory):\n",
    "    total_frames = 0\n",
    "    \n",
    "    for filename in os.listdir(directory):\n",
    "        if filename.endswith(\".txt\"):\n",
    "            filepath = os.path.join(directory, filename)\n",
    "            # MOTファイルを読み込み\n",
    "            try:\n",
    "                data = pd.read_csv(filepath, header=None)\n",
    "                # 1列目がフレーム番号（0インデックスなのでdata[0]）\n",
    "                unique_frames = data[0].nunique()\n",
    "                total_frames += unique_frames\n",
    "            except Exception as e:\n",
    "                print(f\"Error processing file {filename}: {e}\")\n",
    "    \n",
    "    return total_frames\n",
    "\n",
    "# ディレクトリのパス\n",
    "directory_path = \"../../ground_truth/Indoor/MOT_files\"\n",
    "\n",
    "# フレーム数を計算\n",
    "total_frames = calculate_total_frames(directory_path)\n",
    "print(f\"Total unique frames: {total_frames}\")"
   ]
  },
  {
   "cell_type": "code",
   "execution_count": null,
   "metadata": {},
   "outputs": [],
   "source": []
  }
 ],
 "metadata": {
  "kernelspec": {
   "display_name": "Python 3",
   "language": "python",
   "name": "python3"
  },
  "language_info": {
   "codemirror_mode": {
    "name": "ipython",
    "version": 3
   },
   "file_extension": ".py",
   "mimetype": "text/x-python",
   "name": "python",
   "nbconvert_exporter": "python",
   "pygments_lexer": "ipython3",
   "version": "3.8.10"
  }
 },
 "nbformat": 4,
 "nbformat_minor": 2
}
